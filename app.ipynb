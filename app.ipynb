{
  "cells": [
    {
      "cell_type": "code",
      "execution_count": 5,
      "metadata": {
        "id": "Bh_oiC69EWHy",
        "outputId": "95baa0dd-c47d-4956-a1ed-5fe5dd58beeb",
        "colab": {
          "base_uri": "https://localhost:8080/"
        }
      },
      "outputs": [
        {
          "output_type": "stream",
          "name": "stdout",
          "text": [
            "Requirement already satisfied: vanna in /usr/local/lib/python3.10/dist-packages (0.6.0)\n",
            "Requirement already satisfied: requests in /usr/local/lib/python3.10/dist-packages (from vanna) (2.31.0)\n",
            "Requirement already satisfied: tabulate in /usr/local/lib/python3.10/dist-packages (from vanna) (0.9.0)\n",
            "Requirement already satisfied: plotly in /usr/local/lib/python3.10/dist-packages (from vanna) (5.15.0)\n",
            "Requirement already satisfied: pandas in /usr/local/lib/python3.10/dist-packages (from vanna) (2.0.3)\n",
            "Requirement already satisfied: sqlparse in /usr/local/lib/python3.10/dist-packages (from vanna) (0.5.0)\n",
            "Requirement already satisfied: kaleido in /usr/local/lib/python3.10/dist-packages (from vanna) (0.2.1)\n",
            "Requirement already satisfied: flask in /usr/local/lib/python3.10/dist-packages (from vanna) (2.2.5)\n",
            "Requirement already satisfied: flask-sock in /usr/local/lib/python3.10/dist-packages (from vanna) (0.7.0)\n",
            "Requirement already satisfied: sqlalchemy in /usr/local/lib/python3.10/dist-packages (from vanna) (2.0.30)\n",
            "Requirement already satisfied: Werkzeug>=2.2.2 in /usr/local/lib/python3.10/dist-packages (from flask->vanna) (3.0.3)\n",
            "Requirement already satisfied: Jinja2>=3.0 in /usr/local/lib/python3.10/dist-packages (from flask->vanna) (3.1.4)\n",
            "Requirement already satisfied: itsdangerous>=2.0 in /usr/local/lib/python3.10/dist-packages (from flask->vanna) (2.2.0)\n",
            "Requirement already satisfied: click>=8.0 in /usr/local/lib/python3.10/dist-packages (from flask->vanna) (8.1.7)\n",
            "Requirement already satisfied: simple-websocket>=0.5.1 in /usr/local/lib/python3.10/dist-packages (from flask-sock->vanna) (1.0.0)\n",
            "Requirement already satisfied: python-dateutil>=2.8.2 in /usr/local/lib/python3.10/dist-packages (from pandas->vanna) (2.8.2)\n",
            "Requirement already satisfied: pytz>=2020.1 in /usr/local/lib/python3.10/dist-packages (from pandas->vanna) (2023.4)\n",
            "Requirement already satisfied: tzdata>=2022.1 in /usr/local/lib/python3.10/dist-packages (from pandas->vanna) (2024.1)\n",
            "Requirement already satisfied: numpy>=1.21.0 in /usr/local/lib/python3.10/dist-packages (from pandas->vanna) (1.25.2)\n",
            "Requirement already satisfied: tenacity>=6.2.0 in /usr/local/lib/python3.10/dist-packages (from plotly->vanna) (8.3.0)\n",
            "Requirement already satisfied: packaging in /usr/local/lib/python3.10/dist-packages (from plotly->vanna) (24.0)\n",
            "Requirement already satisfied: charset-normalizer<4,>=2 in /usr/local/lib/python3.10/dist-packages (from requests->vanna) (3.3.2)\n",
            "Requirement already satisfied: idna<4,>=2.5 in /usr/local/lib/python3.10/dist-packages (from requests->vanna) (3.7)\n",
            "Requirement already satisfied: urllib3<3,>=1.21.1 in /usr/local/lib/python3.10/dist-packages (from requests->vanna) (2.0.7)\n",
            "Requirement already satisfied: certifi>=2017.4.17 in /usr/local/lib/python3.10/dist-packages (from requests->vanna) (2024.6.2)\n",
            "Requirement already satisfied: typing-extensions>=4.6.0 in /usr/local/lib/python3.10/dist-packages (from sqlalchemy->vanna) (4.12.1)\n",
            "Requirement already satisfied: greenlet!=0.4.17 in /usr/local/lib/python3.10/dist-packages (from sqlalchemy->vanna) (3.0.3)\n",
            "Requirement already satisfied: MarkupSafe>=2.0 in /usr/local/lib/python3.10/dist-packages (from Jinja2>=3.0->flask->vanna) (2.1.5)\n",
            "Requirement already satisfied: six>=1.5 in /usr/local/lib/python3.10/dist-packages (from python-dateutil>=2.8.2->pandas->vanna) (1.16.0)\n",
            "Requirement already satisfied: wsproto in /usr/local/lib/python3.10/dist-packages (from simple-websocket>=0.5.1->flask-sock->vanna) (1.2.0)\n",
            "Requirement already satisfied: h11<1,>=0.9.0 in /usr/local/lib/python3.10/dist-packages (from wsproto->simple-websocket>=0.5.1->flask-sock->vanna) (0.14.0)\n"
          ]
        }
      ],
      "source": [
        "!pip install vanna\n",
        "import vanna\n",
        "from vanna.remote import VannaDefault\n",
        "vn = VannaDefault(model='chinook', api_key='93b96160917143f4b20e6caa3c57bbd8')\n",
        "vn.connect_to_sqlite('https://vanna.ai/Chinook.sqlite')\n",
        "#vn.ask(\"What are the top 10 albums by sales?\")"
      ]
    },
    {
      "cell_type": "code",
      "execution_count": 6,
      "metadata": {
        "id": "SY1AgsZuEWH1",
        "outputId": "2bf8ca69-26ce-4b4a-aba7-e39fcdba00a0",
        "colab": {
          "base_uri": "https://localhost:8080/",
          "height": 121
        }
      },
      "outputs": [
        {
          "output_type": "stream",
          "name": "stdout",
          "text": [
            "Google Colab doesn't support running websocket servers. Disabling debug mode.\n"
          ]
        },
        {
          "output_type": "display_data",
          "data": {
            "text/plain": [
              "<IPython.core.display.Javascript object>"
            ],
            "application/javascript": [
              "(async (port, path, text, element) => {\n",
              "    if (!google.colab.kernel.accessAllowed) {\n",
              "      return;\n",
              "    }\n",
              "    element.appendChild(document.createTextNode(''));\n",
              "    const url = await google.colab.kernel.proxyPort(port);\n",
              "    const anchor = document.createElement('a');\n",
              "    anchor.href = new URL(path, url).toString();\n",
              "    anchor.target = '_blank';\n",
              "    anchor.setAttribute('data-href', url + path);\n",
              "    anchor.textContent = text;\n",
              "    element.appendChild(anchor);\n",
              "  })(8084, \"/\", \"https://localhost:8084/\", window.element)"
            ]
          },
          "metadata": {}
        },
        {
          "output_type": "stream",
          "name": "stdout",
          "text": [
            "Your app is running at:\n",
            "https://jjfo6bh70dn-496ff2e9c6d22116-8084-colab.googleusercontent.com/\n",
            " * Serving Flask app 'vanna.flask'\n",
            " * Debug mode: off\n"
          ]
        }
      ],
      "source": [
        "from vanna.flask import VannaFlaskApp\n",
        "VannaFlaskApp(vn).run()"
      ]
    },
    {
      "cell_type": "code",
      "source": [
        "# prompt: delete all tables in chinook.sqlite\n",
        "\n",
        "# Connect to the SQLite database\n",
        "import sqlite3\n",
        "conn = sqlite3.connect('Chinook.sqlite')\n",
        "\n",
        "# Get a cursor object\n",
        "cur = conn.cursor()\n",
        "\n",
        "# Get a list of all tables in the database\n",
        "tables = cur.execute(\"SELECT NAME FROM sqlite_master WHERE TYPE = 'table'\").fetchall()\n",
        "\n",
        "# Loop through the tables and drop them\n",
        "for table in tables:\n",
        "    print(table)\n",
        "\n",
        "# Commit the changes to the database\n",
        "conn.commit()\n",
        "\n",
        "# Close the database connection\n",
        "conn.close()\n"
      ],
      "metadata": {
        "id": "qLOlQ912FC5R"
      },
      "execution_count": 21,
      "outputs": []
    },
    {
      "cell_type": "code",
      "source": [
        "vn.run_sql(\"\"\"\n",
        "INSERT INTO site_summery\n",
        "(site_key, status, downtime, vendor, region, city, location_type, `type`, tech, lat, long, priority, province, service_zone_category, category, site_owner, no_of_bc, details_bc, no_of_physical, physical_sites, power_source, no_of_generators, total_eol_gen, burnet_gen, leftover_gen, fuel_tank_capacity, landloardname, landloardcontact, la_status, bb_status)\n",
        "VALUES('', '', '', '', '', '', '', '', '', '', '', '', '', '', '', '', '', '', '', '', '', '', '', '', '', '', '', '', '', '');\n",
        "\"\"\")"
      ],
      "metadata": {
        "id": "r4WZet-4HCmY"
      },
      "execution_count": null,
      "outputs": []
    },
    {
      "cell_type": "code",
      "source": [
        "# prompt: import csv data to sqlite\n",
        "\n",
        "import sqlite3\n",
        "\n",
        "# Connect to the SQLite database\n",
        "conn = sqlite3.connect('Chinook.sqlite')\n",
        "\n",
        "# Get a cursor object\n",
        "cur = conn.cursor()\n",
        "\n",
        "# Open the CSV file\n",
        "with open('sales.csv', 'r') as csvfile:\n",
        "    # Create a CSV reader object\n",
        "    reader = csv.reader(csvfile)\n",
        "\n",
        "    # Loop through each row in the CSV file\n",
        "    for row in reader:\n",
        "        # Insert the row into the SQLite table\n",
        "        cur.execute(\"INSERT INTO sales (invoice_id, customer_id, product_id, quantity, unit_price, sales) VALUES (?, ?, ?, ?, ?, ?)\", row)\n",
        "\n",
        "# Commit the changes to the database\n",
        "conn.commit()\n",
        "\n",
        "# Close the database connection\n",
        "conn.close()\n"
      ],
      "metadata": {
        "id": "fnBt5jmkGxR4"
      },
      "execution_count": 27,
      "outputs": []
    }
  ],
  "metadata": {
    "language_info": {
      "name": "python"
    },
    "colab": {
      "provenance": []
    },
    "kernelspec": {
      "name": "python3",
      "display_name": "Python 3"
    }
  },
  "nbformat": 4,
  "nbformat_minor": 0
}